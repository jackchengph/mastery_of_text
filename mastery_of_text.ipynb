{
 "cells": [
  {
   "cell_type": "code",
   "execution_count": 1,
   "id": "69c76ff1-8c90-4a58-8435-4270d17fdf8a",
   "metadata": {},
   "outputs": [
    {
     "name": "stdout",
     "output_type": "stream",
     "text": [
      "<class 'str'>\n",
      "﻿The Project Gutenberg eBook of The King James Version of the Bible\n",
      "    \n",
      "This ebook is for the use of anyone anywhere in the United States and\n",
      "most other parts of the world at no cost and with almost no restrictions\n",
      "whatsoever. You may copy it, give it away or re-use it under the terms\n",
      "of the Project Gutenberg License included with this ebook or online\n",
      "at www.gutenberg.org. If you are not located in the United States,\n",
      "you will have to check the laws of the country where you are located\n",
      "b\n"
     ]
    }
   ],
   "source": [
    "from urllib.request import urlopen\n",
    "\n",
    "# Download Gutenberg KJV Bible text\n",
    "url = \"https://www.gutenberg.org/cache/epub/10/pg10.txt\"\n",
    "with urlopen(url) as resp:\n",
    "    pg10_bytes = resp.read()\n",
    "\n",
    "# Decode from bytes to string\n",
    "pg10 = pg10_bytes.decode(\"utf-8\")\n",
    "\n",
    "# Sanity check\n",
    "print(type(pg10))\n",
    "print(pg10[:500])  # print the first 500 chars\n"
   ]
  },
  {
   "cell_type": "code",
   "execution_count": 2,
   "id": "0762796b-2f7a-4227-b5dd-b2953ed649d3",
   "metadata": {},
   "outputs": [
    {
     "name": "stdout",
     "output_type": "stream",
     "text": [
      "Number of lines: 99968\n"
     ]
    }
   ],
   "source": [
    "# Count lines using splitlines()\n",
    "num_lines = len(pg10.splitlines())\n",
    "print(\"Number of lines:\", num_lines)\n"
   ]
  },
  {
   "cell_type": "code",
   "execution_count": 3,
   "id": "5ef51c6d-b483-40e6-9fc0-fc85c163169b",
   "metadata": {},
   "outputs": [
    {
     "name": "stdout",
     "output_type": "stream",
     "text": [
      "Sample words: ['the', 'project', 'gutenberg', 'ebook', 'of', 'the', 'king', 'james', 'version', 'of', 'the', 'bible', 'this', 'ebook', 'is', 'for', 'the', 'use', 'of', 'anyone']\n",
      "Total words: 795227\n"
     ]
    }
   ],
   "source": [
    "import re\n",
    "\n",
    "# Words are defined as runs of A–Z/a–z characters\n",
    "word_pattern = re.compile(r\"[A-Za-z]+\")\n",
    "words = word_pattern.findall(pg10)\n",
    "words_lower = [w.lower() for w in words]\n",
    "\n",
    "print(\"Sample words:\", words_lower[:20])\n",
    "print(\"Total words:\", len(words_lower))\n"
   ]
  },
  {
   "cell_type": "code",
   "execution_count": 4,
   "id": "5ad8437c-fdd3-480a-bf40-df6aafc600b9",
   "metadata": {},
   "outputs": [
    {
     "name": "stdout",
     "output_type": "stream",
     "text": [
      "Number of words: 795227\n"
     ]
    }
   ],
   "source": [
    "num_words = len(words_lower)\n",
    "print(\"Number of words:\", num_words)\n"
   ]
  },
  {
   "cell_type": "code",
   "execution_count": 5,
   "id": "e4986da9-1c6a-4386-be7a-b1fdd182382a",
   "metadata": {},
   "outputs": [
    {
     "name": "stdout",
     "output_type": "stream",
     "text": [
      "Occurrences of \"apostle\": 47\n"
     ]
    }
   ],
   "source": [
    "apostle_count = words_lower.count(\"apostle\")\n",
    "print('Occurrences of \"apostle\":', apostle_count)\n"
   ]
  },
  {
   "cell_type": "code",
   "execution_count": 6,
   "id": "37f60868-f821-4b5b-9122-22762e457b35",
   "metadata": {},
   "outputs": [
    {
     "name": "stdout",
     "output_type": "stream",
     "text": [
      "Most common word: the\n",
      "Frequency: 64309\n",
      "Top 10 words: [('the', 64309), ('and', 51762), ('of', 34846), ('to', 13680), ('that', 12927), ('in', 12727), ('he', 10422), ('shall', 9840), ('for', 8997), ('unto', 8997)]\n"
     ]
    }
   ],
   "source": [
    "from collections import Counter\n",
    "\n",
    "counter = Counter(words_lower)\n",
    "most_common_word, count = counter.most_common(1)[0]\n",
    "print(\"Most common word:\", most_common_word)\n",
    "print(\"Frequency:\", count)\n",
    "\n",
    "# optional: top 10\n",
    "print(\"Top 10 words:\", counter.most_common(10))\n"
   ]
  },
  {
   "cell_type": "code",
   "execution_count": null,
   "id": "f242df2c-ff5a-4328-8a65-d7329bbd6aca",
   "metadata": {},
   "outputs": [],
   "source": []
  }
 ],
 "metadata": {
  "kernelspec": {
   "display_name": "Python 3 (ipykernel)",
   "language": "python",
   "name": "python3"
  },
  "language_info": {
   "codemirror_mode": {
    "name": "ipython",
    "version": 3
   },
   "file_extension": ".py",
   "mimetype": "text/x-python",
   "name": "python",
   "nbconvert_exporter": "python",
   "pygments_lexer": "ipython3",
   "version": "3.13.5"
  }
 },
 "nbformat": 4,
 "nbformat_minor": 5
}
